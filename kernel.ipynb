{
 "cells": [
  {
   "cell_type": "code",
   "execution_count": null,
   "metadata": {
    "_cell_guid": "79c7e3d0-c299-4dcb-8224-4455121ee9b0",
    "_uuid": "d629ff2d2480ee46fbb7e2d37f6b5fab8052498a",
    "collapsed": true
   },
   "outputs": [],
   "source": [
    "import os\n",
    "import tensorflow as tf\n",
    "import pandas as pd\n",
    "import numpy as np\n",
    "from sklearn.model_selection import train_test_split"
   ]
  },
  {
   "cell_type": "markdown",
   "metadata": {},
   "source": [
    "<span style='color: blue; font-size: 20px; font-family: Courier new'> Getting the data and splitting in Train and Validation sets </span>"
   ]
  },
  {
   "cell_type": "code",
   "execution_count": null,
   "metadata": {
    "_uuid": "b4f32843a5497a2267c1c7bf81168f525adfe469",
    "collapsed": true
   },
   "outputs": [],
   "source": [
    "data = pd.read_csv('../input/train.csv')\n",
    "label = data.label\n",
    "data = data.drop('label', axis = 1)\n",
    "X, X_test, Y, Y_test = train_test_split(data, label, test_size = 0.2)\n",
    "with tf.Session() as sess:\n",
    "    Y = tf.one_hot(Y,10)\n",
    "    Y = sess.run(Y)\n",
    "Y_test = Y_test.values"
   ]
  },
  {
   "cell_type": "markdown",
   "metadata": {},
   "source": [
    "<span style='color: blue; font-size: 20px; font-family: Courier new'> Declaring placeholders, Variables and the Convolutional Neural Network model </span>"
   ]
  },
  {
   "cell_type": "code",
   "execution_count": null,
   "metadata": {
    "_uuid": "a06adb4070e51b8b1e2bc4bcd34a85989a56df98",
    "collapsed": true
   },
   "outputs": [],
   "source": [
    "x = tf.placeholder(dtype = tf.float32, shape=[None,784])\n",
    "y = tf.placeholder(dtype = tf.float32, shape=[None,10])\n",
    "f1= tf.Variable(tf.random_normal(shape=[3,3,1,16]))\n",
    "f2= tf.Variable(tf.random_normal(shape=[3,3,16,32]))\n",
    "b1= tf.Variable(tf.random_normal(shape=[28,28,16]))\n",
    "b2= tf.Variable(tf.random_normal(shape=[14,14,32]))\n",
    "w1 = tf.Variable(tf.random_normal(shape=[1568,1000]))\n",
    "b3= tf.Variable(tf.random_normal(shape=[1000]))\n",
    "w2 = tf.Variable(tf.random_normal(shape=[1000,10]))\n",
    "b4= tf.Variable(tf.random_normal(shape=[10]))\n",
    "\n",
    "f1_1= tf.Variable(tf.random_normal(shape=[3,3,16,16]))\n",
    "b1_1= tf.Variable(tf.random_normal(shape=[28,28,16]))\n",
    "\n",
    "def cnn(x):\n",
    "    l = tf.reshape(x, [-1,28,28,1])\n",
    "    \n",
    "    l = tf.nn.conv2d(l, f1, strides = [1,1,1,1], padding= 'SAME')\n",
    "    l = tf.nn.relu(l + b1)\n",
    "    \n",
    "    l = tf.nn.conv2d(l, f1_1, strides = [1,1,1,1], padding= 'SAME')\n",
    "    l = tf.nn.relu(l + b1_1)\n",
    "    \n",
    "    l = tf.nn.max_pool(l, ksize = [1,2,2,1], strides = [1,2,2,1], padding = 'SAME')\n",
    "    \n",
    "    l = tf.nn.conv2d(l, f2, strides = [1,1,1,1], padding= 'SAME')\n",
    "    l = tf.nn.relu(l + b2)\n",
    "    l = tf.nn.max_pool(l, ksize = [1,2,2,1], strides = [1,2,2,1], padding = 'SAME')\n",
    "    \n",
    "    l = tf.reshape(l,[-1,1568])\n",
    "    \n",
    "    l = tf.matmul(l,w1)\n",
    "    l = tf.nn.relu(l + b3)\n",
    "    \n",
    "    l = tf.matmul(l,w2)\n",
    "    l = l + b4\n",
    "    \n",
    "#     l = tf.nn.softmax(l)\n",
    "    return l"
   ]
  },
  {
   "cell_type": "markdown",
   "metadata": {},
   "source": [
    "<span style='color: blue; font-size: 20px; font-family: Courier new'> Making batches of data and training with 50 epochs </span>"
   ]
  },
  {
   "cell_type": "code",
   "execution_count": null,
   "metadata": {
    "_uuid": "9f9a2d79a73eaf7a93948cbd12d3025eafb3c9c2",
    "collapsed": true,
    "scrolled": true
   },
   "outputs": [],
   "source": [
    "ep = 50\n",
    "pred = cnn(x)\n",
    "cost = tf.reduce_mean(tf.nn.softmax_cross_entropy_with_logits_v2(labels = y, logits = pred))#tf.square(tf.subtract(pred, y)))\n",
    "optimizer = tf.train.AdamOptimizer().minimize(cost)\n",
    "sess = tf.Session()\n",
    "sess.run([tf.global_variables_initializer(), tf.local_variables_initializer()])\n",
    "for i in range(ep):\n",
    "    k = 0\n",
    "    epc = 0\n",
    "    size = 100\n",
    "    for _ in range(336):\n",
    "        _, c = sess.run([optimizer, cost], feed_dict = {x: X[k:k+size], y: Y[k:k+size]})\n",
    "        k = k+100\n",
    "        epc += c\n",
    "    print('Epoch: ',i+1,'   Cost: ', epc)\n",
    "    p = tf.nn.softmax(pred)\n",
    "    p = tf.argmax(p, axis =1)\n",
    "    p = sess.run(p, feed_dict = {x: X_test})\n",
    "    tr = 0\n",
    "    for j in range(8400):\n",
    "        if(p[j] == Y_test[j]):\n",
    "            tr += 1\n",
    "    print('Accuracy: ', tr/8400)\n",
    "    print('Correct: ', tr)"
   ]
  },
  {
   "cell_type": "markdown",
   "metadata": {},
   "source": [
    "<span style='color: blue; font-size: 20px; font-family: Courier new'> Loading test data and making predictions </span>"
   ]
  },
  {
   "cell_type": "code",
   "execution_count": null,
   "metadata": {
    "_uuid": "5e2a6d977e4b388e7e6d8375730464acf284c08d",
    "collapsed": true
   },
   "outputs": [],
   "source": [
    "data = pd.read_csv('../input/test.csv')\n",
    "p1 = tf.argmax(pred, axis = 1)\n",
    "p1 = sess.run(p1, feed_dict = {x: data})\n",
    "sess.close()"
   ]
  },
  {
   "cell_type": "markdown",
   "metadata": {},
   "source": [
    "<span style='color: blue; font-size: 20px; font-family: Courier new'>Writing predictions to CSV  </span>"
   ]
  },
  {
   "cell_type": "code",
   "execution_count": null,
   "metadata": {
    "_uuid": "34efe702bc6969968820216775682e895ffc6362",
    "collapsed": true
   },
   "outputs": [],
   "source": [
    "d = pd.read_csv('../input/sample_submission.csv')\n",
    "d.head()\n",
    "res = pd.DataFrame(p1, columns = ['Label'])\n",
    "res.index.names = ['ImageId']\n",
    "res.index += 1\n",
    "res.head()\n",
    "res.to_csv('submit.csv', index_label = 'ImageId')"
   ]
  }
 ],
 "metadata": {
  "kernelspec": {
   "display_name": "Python 3",
   "language": "python",
   "name": "python3"
  },
  "language_info": {
   "codemirror_mode": {
    "name": "ipython",
    "version": 3 
   },
   "file_extension": ".py",
   "mimetype": "text/x-python",
   "name": "python",
   "nbconvert_exporter": "python",
   "pygments_lexer": "ipython3",
   "version": "3.6.5"
  }
 },
 "nbformat": 4,
 "nbformat_minor": 1
}
